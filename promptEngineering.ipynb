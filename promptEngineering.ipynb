{
  "nbformat": 4,
  "nbformat_minor": 0,
  "metadata": {
    "colab": {
      "provenance": []
    },
    "kernelspec": {
      "name": "python3",
      "display_name": "Python 3"
    },
    "language_info": {
      "name": "python"
    }
  },
  "cells": [
    {
      "cell_type": "code",
      "execution_count": 5,
      "metadata": {
        "id": "ZyHpdOgVsCgX"
      },
      "outputs": [],
      "source": [
        "!pip install langchain >/dev/null"
      ]
    },
    {
      "cell_type": "code",
      "source": [
        "from langchain import PromptTemplate"
      ],
      "metadata": {
        "id": "HIxLtvqxsjK3"
      },
      "execution_count": 6,
      "outputs": []
    },
    {
      "cell_type": "code",
      "source": [
        "template = \"\"\"\n",
        "I want you to act as a study planner for students.\n",
        "While creating plan for the student(s), Make sure you consider the following traits of student.\n",
        "here is an example:\n",
        "\n",
        "subjects and their grades = Math: B+, Physics: A, Computer Science: B-,\n",
        "learning style = visual learner,\n",
        "extracurricular activities = playing music,\n",
        "personal goal = to become a Computer Scientist\n",
        "\n",
        "Study Plan for Future Computer Scientist - Visual Learner\n",
        "\n",
        "1. Math: B+\n",
        "Create visual aids such as mind maps or diagrams to represent mathematical concepts.\n",
        "Utilize online resources with visual explanations to reinforce understanding.\n",
        "Practice problem-solving using visual techniques, such as drawing diagrams for complex equations.\n",
        "\n",
        "2. Physics: A\n",
        "Make use of visual materials like diagrams, charts, and videos to enhance understanding.\n",
        "Create visual summaries for each physics concept to aid in quick review.\n",
        "Explore interactive simulations or virtual labs for a hands-on visual experience.\n",
        "\n",
        "3. Computer Science: B-\n",
        "Visualize algorithms and code structures through flowcharts or diagrams.\n",
        "Utilize coding platforms with visual interfaces to strengthen programming skills.\n",
        "Explore graphic design principles to enhance the visual appeal of software projects.\n",
        "\n",
        "4. Extracurricular Activities: Playing Music\n",
        "Incorporate visual aids in music practice, such as sheet music or visual guides.\n",
        "Consider exploring the intersection of technology and music through visualizations.\n",
        "Use visual tools to organize and plan music practice schedules efficiently.\n",
        "\n",
        "5. Overall Study Strategies:\n",
        "Create visual study materials like flashcards, mind maps, and diagrams for better retention.\n",
        "Use color-coded notes to categorize information in different subjects.\n",
        "Watch educational videos or tutorials to complement textbook learning.\n",
        "\n",
        "6. Personal Goal: Becoming a Computer Scientist\n",
        "Visualize the steps required to achieve the goal of becoming a Computer Scientist.\n",
        "Create a visual timeline outlining academic milestones and career aspirations.\n",
        "Research and visually represent different specializations within computer science.\n",
        "\n",
        "7. Future Steps Towards Computer Science Career:\n",
        "Build a visually appealing portfolio showcasing coding projects and achievements.\n",
        "Explore opportunities for visual storytelling in technology-related projects.\n",
        "Attend industry events or webinars to visually connect with professionals in the field.\n",
        "\n",
        "Now create a plan for following student:\n",
        "subjects and their performace = {subjects_with_grades},\n",
        "learning style = {learning_style},\n",
        "extracurricular activities = {extra_curricular_activities},\n",
        "personal goal = {personal_goal}\n",
        "\n",
        "\n",
        "personalized study plan for a student who want {personal_goal}:\n",
        "\"\"\""
      ],
      "metadata": {
        "id": "-jC8NkQnufB6"
      },
      "execution_count": 86,
      "outputs": []
    },
    {
      "cell_type": "code",
      "source": [
        "prompt = PromptTemplate(template=template, input_variables=[\"subjects_with_grades\", \"learning_style\", \"extra_curricular_activities\", \"personal_goal\"])"
      ],
      "metadata": {
        "id": "XG3zC5CBFZ8N"
      },
      "execution_count": 87,
      "outputs": []
    },
    {
      "cell_type": "code",
      "source": [
        "print(prompt.format(subjects_with_grades=\"Physics:B+, Chemistry: B, Bio: A\",\n",
        "                            learning_style=\"auditory\",\n",
        "                            extra_curricular_activities=\"playing badminto\",\n",
        "                            personal_goal=\"to become a Doctor\"\n",
        "                            ))"
      ],
      "metadata": {
        "colab": {
          "base_uri": "https://localhost:8080/"
        },
        "id": "wWpwOQyqdGdg",
        "outputId": "c4ddd145-1014-4d14-f22e-763365d3d49b"
      },
      "execution_count": 88,
      "outputs": [
        {
          "output_type": "stream",
          "name": "stdout",
          "text": [
            "\n",
            "I want you to act as a study planner for students.\n",
            "While creating plan for the student(s), Make sure you consider the following traits of student.\n",
            "here is an example:\n",
            "\n",
            "subjects and their grades = Math: B+, Physics: A, Computer Science: B-,\n",
            "learning style = visual learner,\n",
            "extracurricular activities = playing music,\n",
            "personal goal = to become a Computer Scientist\n",
            "\n",
            "Study Plan for Future Computer Scientist - Visual Learner\n",
            "\n",
            "1. Math: B+\n",
            "Create visual aids such as mind maps or diagrams to represent mathematical concepts.\n",
            "Utilize online resources with visual explanations to reinforce understanding.\n",
            "Practice problem-solving using visual techniques, such as drawing diagrams for complex equations.\n",
            "\n",
            "2. Physics: A\n",
            "Make use of visual materials like diagrams, charts, and videos to enhance understanding.\n",
            "Create visual summaries for each physics concept to aid in quick review.\n",
            "Explore interactive simulations or virtual labs for a hands-on visual experience.\n",
            "\n",
            "3. Computer Science: B-\n",
            "Visualize algorithms and code structures through flowcharts or diagrams.\n",
            "Utilize coding platforms with visual interfaces to strengthen programming skills.\n",
            "Explore graphic design principles to enhance the visual appeal of software projects.\n",
            "\n",
            "4. Extracurricular Activities: Playing Music\n",
            "Incorporate visual aids in music practice, such as sheet music or visual guides.\n",
            "Consider exploring the intersection of technology and music through visualizations.\n",
            "Use visual tools to organize and plan music practice schedules efficiently.\n",
            "\n",
            "5. Overall Study Strategies:\n",
            "Create visual study materials like flashcards, mind maps, and diagrams for better retention.\n",
            "Use color-coded notes to categorize information in different subjects.\n",
            "Watch educational videos or tutorials to complement textbook learning.\n",
            "\n",
            "6. Personal Goal: Becoming a Computer Scientist\n",
            "Visualize the steps required to achieve the goal of becoming a Computer Scientist.\n",
            "Create a visual timeline outlining academic milestones and career aspirations.\n",
            "Research and visually represent different specializations within computer science.\n",
            "\n",
            "7. Future Steps Towards Computer Science Career:\n",
            "Build a visually appealing portfolio showcasing coding projects and achievements.\n",
            "Explore opportunities for visual storytelling in technology-related projects.\n",
            "Attend industry events or webinars to visually connect with professionals in the field.\n",
            "\n",
            "Now create a plan for following student:\n",
            "subjects and their performace = Physics:B+, Chemistry: B, Bio: A,\n",
            "learning style = auditory,\n",
            "extracurricular activities = playing badminto,\n",
            "personal goal = to become a Doctor\n",
            "\n",
            "\n",
            "personalized study plan for a student who want to become a Doctor: \n",
            "\n"
          ]
        }
      ]
    }
  ]
}